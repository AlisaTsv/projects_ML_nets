{
 "cells": [
  {
   "cell_type": "code",
   "execution_count": 90,
   "id": "4f575158",
   "metadata": {},
   "outputs": [],
   "source": [
    "import numpy as np\n",
    "import pandas as pd"
   ]
  },
  {
   "cell_type": "markdown",
   "id": "f7077b9b",
   "metadata": {},
   "source": [
    "https://archive.ics.uci.edu/ml/datasets/Bank+Marketing \n",
    "\n",
    "Датасет посвящен банковским клиентам, которые согласились на предложение после телефонных звонков.\n",
    "\n",
    "Задача: тестируем метод **random negative sampling**. Он применяется для задач Look-alike (\"выглядят подобными\", поиск потенциальных клиентов, также эта задача называется \"Positive and unlabeled\"). \n",
    "\n",
    "Сначала обучаем классификатор в обычном режиме. \n",
    "Затем искусственно создаем ситуацию, когда часть данных имеет положительный label, a часть данных не размечена.  "
   ]
  },
  {
   "cell_type": "markdown",
   "id": "7d94f2ad",
   "metadata": {},
   "source": [
    "**1. Загрузка датасета**"
   ]
  },
  {
   "cell_type": "code",
   "execution_count": 91,
   "id": "e9421085",
   "metadata": {},
   "outputs": [],
   "source": [
    "data = pd.read_csv('/Users/Alisa/Downloads/bank+marketing/bank/bank-full.csv', ';')"
   ]
  },
  {
   "cell_type": "code",
   "execution_count": 92,
   "id": "1d532cb4",
   "metadata": {},
   "outputs": [
    {
     "data": {
      "text/html": [
       "<div>\n",
       "<style scoped>\n",
       "    .dataframe tbody tr th:only-of-type {\n",
       "        vertical-align: middle;\n",
       "    }\n",
       "\n",
       "    .dataframe tbody tr th {\n",
       "        vertical-align: top;\n",
       "    }\n",
       "\n",
       "    .dataframe thead th {\n",
       "        text-align: right;\n",
       "    }\n",
       "</style>\n",
       "<table border=\"1\" class=\"dataframe\">\n",
       "  <thead>\n",
       "    <tr style=\"text-align: right;\">\n",
       "      <th></th>\n",
       "      <th>age</th>\n",
       "      <th>job</th>\n",
       "      <th>marital</th>\n",
       "      <th>education</th>\n",
       "      <th>default</th>\n",
       "      <th>balance</th>\n",
       "      <th>housing</th>\n",
       "      <th>loan</th>\n",
       "      <th>contact</th>\n",
       "      <th>day</th>\n",
       "      <th>month</th>\n",
       "      <th>duration</th>\n",
       "      <th>campaign</th>\n",
       "      <th>pdays</th>\n",
       "      <th>previous</th>\n",
       "      <th>poutcome</th>\n",
       "      <th>y</th>\n",
       "    </tr>\n",
       "  </thead>\n",
       "  <tbody>\n",
       "    <tr>\n",
       "      <th>0</th>\n",
       "      <td>58</td>\n",
       "      <td>management</td>\n",
       "      <td>married</td>\n",
       "      <td>tertiary</td>\n",
       "      <td>no</td>\n",
       "      <td>2143</td>\n",
       "      <td>yes</td>\n",
       "      <td>no</td>\n",
       "      <td>unknown</td>\n",
       "      <td>5</td>\n",
       "      <td>may</td>\n",
       "      <td>261</td>\n",
       "      <td>1</td>\n",
       "      <td>-1</td>\n",
       "      <td>0</td>\n",
       "      <td>unknown</td>\n",
       "      <td>no</td>\n",
       "    </tr>\n",
       "    <tr>\n",
       "      <th>1</th>\n",
       "      <td>44</td>\n",
       "      <td>technician</td>\n",
       "      <td>single</td>\n",
       "      <td>secondary</td>\n",
       "      <td>no</td>\n",
       "      <td>29</td>\n",
       "      <td>yes</td>\n",
       "      <td>no</td>\n",
       "      <td>unknown</td>\n",
       "      <td>5</td>\n",
       "      <td>may</td>\n",
       "      <td>151</td>\n",
       "      <td>1</td>\n",
       "      <td>-1</td>\n",
       "      <td>0</td>\n",
       "      <td>unknown</td>\n",
       "      <td>no</td>\n",
       "    </tr>\n",
       "    <tr>\n",
       "      <th>2</th>\n",
       "      <td>33</td>\n",
       "      <td>entrepreneur</td>\n",
       "      <td>married</td>\n",
       "      <td>secondary</td>\n",
       "      <td>no</td>\n",
       "      <td>2</td>\n",
       "      <td>yes</td>\n",
       "      <td>yes</td>\n",
       "      <td>unknown</td>\n",
       "      <td>5</td>\n",
       "      <td>may</td>\n",
       "      <td>76</td>\n",
       "      <td>1</td>\n",
       "      <td>-1</td>\n",
       "      <td>0</td>\n",
       "      <td>unknown</td>\n",
       "      <td>no</td>\n",
       "    </tr>\n",
       "    <tr>\n",
       "      <th>3</th>\n",
       "      <td>47</td>\n",
       "      <td>blue-collar</td>\n",
       "      <td>married</td>\n",
       "      <td>unknown</td>\n",
       "      <td>no</td>\n",
       "      <td>1506</td>\n",
       "      <td>yes</td>\n",
       "      <td>no</td>\n",
       "      <td>unknown</td>\n",
       "      <td>5</td>\n",
       "      <td>may</td>\n",
       "      <td>92</td>\n",
       "      <td>1</td>\n",
       "      <td>-1</td>\n",
       "      <td>0</td>\n",
       "      <td>unknown</td>\n",
       "      <td>no</td>\n",
       "    </tr>\n",
       "    <tr>\n",
       "      <th>4</th>\n",
       "      <td>33</td>\n",
       "      <td>unknown</td>\n",
       "      <td>single</td>\n",
       "      <td>unknown</td>\n",
       "      <td>no</td>\n",
       "      <td>1</td>\n",
       "      <td>no</td>\n",
       "      <td>no</td>\n",
       "      <td>unknown</td>\n",
       "      <td>5</td>\n",
       "      <td>may</td>\n",
       "      <td>198</td>\n",
       "      <td>1</td>\n",
       "      <td>-1</td>\n",
       "      <td>0</td>\n",
       "      <td>unknown</td>\n",
       "      <td>no</td>\n",
       "    </tr>\n",
       "  </tbody>\n",
       "</table>\n",
       "</div>"
      ],
      "text/plain": [
       "   age           job  marital  education default  balance housing loan  \\\n",
       "0   58    management  married   tertiary      no     2143     yes   no   \n",
       "1   44    technician   single  secondary      no       29     yes   no   \n",
       "2   33  entrepreneur  married  secondary      no        2     yes  yes   \n",
       "3   47   blue-collar  married    unknown      no     1506     yes   no   \n",
       "4   33       unknown   single    unknown      no        1      no   no   \n",
       "\n",
       "   contact  day month  duration  campaign  pdays  previous poutcome   y  \n",
       "0  unknown    5   may       261         1     -1         0  unknown  no  \n",
       "1  unknown    5   may       151         1     -1         0  unknown  no  \n",
       "2  unknown    5   may        76         1     -1         0  unknown  no  \n",
       "3  unknown    5   may        92         1     -1         0  unknown  no  \n",
       "4  unknown    5   may       198         1     -1         0  unknown  no  "
      ]
     },
     "execution_count": 92,
     "metadata": {},
     "output_type": "execute_result"
    }
   ],
   "source": [
    "data.head()"
   ]
  },
  {
   "cell_type": "code",
   "execution_count": 93,
   "id": "c3db10ed",
   "metadata": {},
   "outputs": [
    {
     "data": {
      "text/plain": [
       "(45211, 17)"
      ]
     },
     "execution_count": 93,
     "metadata": {},
     "output_type": "execute_result"
    }
   ],
   "source": [
    "data.shape"
   ]
  },
  {
   "cell_type": "code",
   "execution_count": 94,
   "id": "77879a65",
   "metadata": {},
   "outputs": [
    {
     "data": {
      "text/plain": [
       "no     39922\n",
       "yes     5289\n",
       "Name: y, dtype: int64"
      ]
     },
     "execution_count": 94,
     "metadata": {},
     "output_type": "execute_result"
    }
   ],
   "source": [
    "data['y'].value_counts() #есть дисбаланс классов"
   ]
  },
  {
   "cell_type": "code",
   "execution_count": 95,
   "id": "6a1df9c2",
   "metadata": {},
   "outputs": [
    {
     "data": {
      "text/plain": [
       "0"
      ]
     },
     "execution_count": 95,
     "metadata": {},
     "output_type": "execute_result"
    }
   ],
   "source": [
    "data.duplicated().sum() #нет дублей"
   ]
  },
  {
   "cell_type": "code",
   "execution_count": 96,
   "id": "218207c0",
   "metadata": {},
   "outputs": [
    {
     "data": {
      "text/plain": [
       "(array([], dtype=int64), array([], dtype=int64))"
      ]
     },
     "execution_count": 96,
     "metadata": {},
     "output_type": "execute_result"
    }
   ],
   "source": [
    "np.where(pd.isnull(data))  #проверим на пропуски"
   ]
  },
  {
   "cell_type": "code",
   "execution_count": 97,
   "id": "402a7ed5",
   "metadata": {},
   "outputs": [
    {
     "data": {
      "text/plain": [
       "(array([], dtype=int64), array([], dtype=int64))"
      ]
     },
     "execution_count": 97,
     "metadata": {},
     "output_type": "execute_result"
    }
   ],
   "source": [
    "np.where(data.applymap(lambda x: x == ''))"
   ]
  },
  {
   "cell_type": "markdown",
   "id": "b3f4a2d1",
   "metadata": {},
   "source": [
    "**2. Обучаем классификатор в обычном режиме**"
   ]
  },
  {
   "cell_type": "code",
   "execution_count": 98,
   "id": "f3d69e63",
   "metadata": {},
   "outputs": [],
   "source": [
    "data['y'] = np.where(data['y'] == 'yes', 1, 0)"
   ]
  },
  {
   "cell_type": "code",
   "execution_count": 99,
   "id": "3011e7b8",
   "metadata": {},
   "outputs": [],
   "source": [
    "df_0 = data.loc[data['y'] == 0] #исправляем дисбаланс классов"
   ]
  },
  {
   "cell_type": "code",
   "execution_count": 100,
   "id": "360997fb",
   "metadata": {},
   "outputs": [
    {
     "data": {
      "text/plain": [
       "(39922, 17)"
      ]
     },
     "execution_count": 100,
     "metadata": {},
     "output_type": "execute_result"
    }
   ],
   "source": [
    "df_0.shape"
   ]
  },
  {
   "cell_type": "code",
   "execution_count": 101,
   "id": "b4e8d5c5",
   "metadata": {},
   "outputs": [],
   "source": [
    "df_0 = df_0.sample(5289)\n",
    "df_1 = data.loc[data['y'] == 1]"
   ]
  },
  {
   "cell_type": "code",
   "execution_count": 102,
   "id": "6fced83e",
   "metadata": {},
   "outputs": [],
   "source": [
    "frames = [df_0, df_1]\n",
    "data = pd.concat(frames)\n",
    "data = data.sample(frac = 1, random_state = 1) #шафлируем датасет"
   ]
  },
  {
   "cell_type": "code",
   "execution_count": 103,
   "id": "17e9690f",
   "metadata": {},
   "outputs": [],
   "source": [
    "X = data.drop(columns=['y'])\n",
    "y = data['y']"
   ]
  },
  {
   "cell_type": "markdown",
   "id": "f2443f31",
   "metadata": {},
   "source": [
    "Делим на train и test"
   ]
  },
  {
   "cell_type": "code",
   "execution_count": 104,
   "id": "008381a7",
   "metadata": {},
   "outputs": [],
   "source": [
    "from sklearn.model_selection import train_test_split"
   ]
  },
  {
   "cell_type": "code",
   "execution_count": 105,
   "id": "6971cc22",
   "metadata": {},
   "outputs": [],
   "source": [
    "X_train, X_test, y_train, y_test = train_test_split(X, y, random_state = 1)"
   ]
  },
  {
   "cell_type": "markdown",
   "id": "9d268a85",
   "metadata": {},
   "source": [
    "Создаем пайплайн для обработки признаков: категориальные признаки будут кодироваться при помощи OneHotEncoder: в виде матрицы 0 и 1. Для этого сначала разделяем признаки на категориальные и непрерывные (количественные)."
   ]
  },
  {
   "cell_type": "code",
   "execution_count": 106,
   "id": "a6568e0b",
   "metadata": {},
   "outputs": [],
   "source": [
    "categorical_columns = ['job', 'marital', 'education', 'default', 'housing', 'loan', 'contact', 'month', 'poutcome']\n",
    "continuous_columns = ['age', 'balance', 'day', 'duration', 'pdays', 'previous']"
   ]
  },
  {
   "cell_type": "code",
   "execution_count": 107,
   "id": "27f5aeda",
   "metadata": {},
   "outputs": [],
   "source": [
    "from sklearn.pipeline import Pipeline, make_pipeline\n",
    "from sklearn.pipeline import FeatureUnion\n",
    "from sklearn.base import BaseEstimator, TransformerMixin"
   ]
  },
  {
   "cell_type": "code",
   "execution_count": 108,
   "id": "8c3f9c3b",
   "metadata": {},
   "outputs": [],
   "source": [
    "class FeatureSelector(BaseEstimator, TransformerMixin):\n",
    "    def __init__(self, column):\n",
    "        self.column = column\n",
    "\n",
    "    def fit(self, X, y=None):\n",
    "        return self\n",
    "\n",
    "    def transform(self, X, y=None):\n",
    "        return X[self.column]\n",
    "    \n",
    "\n",
    "class NumberSelector(BaseEstimator, TransformerMixin):\n",
    "    \"\"\"\n",
    "    Transformer to select a single column from the data frame to perform additional transformations on\n",
    "    Use on numeric columns in the data\n",
    "    \"\"\"\n",
    "    def __init__(self, key):\n",
    "        self.key = key\n",
    "\n",
    "    def fit(self, X, y=None):\n",
    "        return self\n",
    "\n",
    "    def transform(self, X):\n",
    "        return X[[self.key]]\n",
    "    \n",
    "    \n",
    "class OHEEncoder(BaseEstimator, TransformerMixin):\n",
    "    def __init__(self, key):\n",
    "        self.key = key\n",
    "        self.columns = []\n",
    "\n",
    "    def fit(self, X, y=None):\n",
    "        self.columns = [col for col in pd.get_dummies(X, prefix=self.key).columns]\n",
    "        return self\n",
    "\n",
    "    def transform(self, X):\n",
    "        X = pd.get_dummies(X, prefix=self.key)\n",
    "        test_columns = [col for col in X.columns]\n",
    "        \n",
    "        for col_ in self.columns:\n",
    "            if col_ not in test_columns:\n",
    "                X[col_] = 0\n",
    "        return X[self.columns]"
   ]
  },
  {
   "cell_type": "code",
   "execution_count": 109,
   "id": "f1314c03",
   "metadata": {},
   "outputs": [],
   "source": [
    "final_transformers = list()\n",
    "\n",
    "for cat_col in categorical_columns:\n",
    "    cat_transformer = Pipeline([\n",
    "                ('selector', FeatureSelector(column=cat_col)),\n",
    "                ('ohe', OHEEncoder(key=cat_col))\n",
    "            ])\n",
    "    \n",
    "    final_transformers.append((cat_col, cat_transformer))\n",
    "    \n",
    "for cont_col in continuous_columns:\n",
    "    cont_transformer = Pipeline([\n",
    "                ('selector', NumberSelector(key=cont_col))\n",
    "            ])\n",
    "    \n",
    "    final_transformers.append((cont_col, cont_transformer))"
   ]
  },
  {
   "cell_type": "code",
   "execution_count": 110,
   "id": "4c4ea7d9",
   "metadata": {},
   "outputs": [],
   "source": [
    "feats = FeatureUnion(final_transformers)\n",
    "\n",
    "feature_processing = Pipeline([('feats', feats)])"
   ]
  },
  {
   "cell_type": "markdown",
   "id": "c56d8968",
   "metadata": {},
   "source": [
    "Готовим таблицу для сравнения моделей"
   ]
  },
  {
   "cell_type": "code",
   "execution_count": 111,
   "id": "76398406",
   "metadata": {},
   "outputs": [],
   "source": [
    "models_results = {\n",
    "    'data_type': [],\n",
    "    'threshold': [],\n",
    "    'f_score': [],\n",
    "    'precision': [],\n",
    "    'recall': [],\n",
    "}"
   ]
  },
  {
   "cell_type": "markdown",
   "id": "6ab0869c",
   "metadata": {},
   "source": [
    "**Обучаем CatBoostclassifier**"
   ]
  },
  {
   "cell_type": "code",
   "execution_count": 112,
   "id": "1ca32fcb",
   "metadata": {},
   "outputs": [],
   "source": [
    "from catboost import CatBoostClassifier"
   ]
  },
  {
   "cell_type": "code",
   "execution_count": 113,
   "id": "d9e0d93f",
   "metadata": {},
   "outputs": [],
   "source": [
    "catboost_pipeline = Pipeline([\n",
    "    ('features', feats),\n",
    "    ('catboost_classifier', CatBoostClassifier(iterations=25, random_state=1)),\n",
    "])"
   ]
  },
  {
   "cell_type": "code",
   "execution_count": 114,
   "id": "34b13826",
   "metadata": {},
   "outputs": [
    {
     "name": "stdout",
     "output_type": "stream",
     "text": [
      "Learning rate set to 0.5\n",
      "0:\tlearn: 0.4928351\ttotal: 5.2ms\tremaining: 125ms\n",
      "1:\tlearn: 0.4387065\ttotal: 11ms\tremaining: 126ms\n",
      "2:\tlearn: 0.4079422\ttotal: 16ms\tremaining: 117ms\n",
      "3:\tlearn: 0.3902545\ttotal: 21.7ms\tremaining: 114ms\n",
      "4:\tlearn: 0.3815947\ttotal: 29.1ms\tremaining: 117ms\n",
      "5:\tlearn: 0.3677395\ttotal: 36.8ms\tremaining: 116ms\n",
      "6:\tlearn: 0.3570835\ttotal: 42.6ms\tremaining: 110ms\n",
      "7:\tlearn: 0.3478791\ttotal: 49.7ms\tremaining: 106ms\n",
      "8:\tlearn: 0.3407937\ttotal: 56.1ms\tremaining: 99.7ms\n",
      "9:\tlearn: 0.3366552\ttotal: 61.9ms\tremaining: 92.8ms\n",
      "10:\tlearn: 0.3330748\ttotal: 68.7ms\tremaining: 87.4ms\n",
      "11:\tlearn: 0.3289751\ttotal: 74.2ms\tremaining: 80.4ms\n",
      "12:\tlearn: 0.3249500\ttotal: 79.4ms\tremaining: 73.2ms\n",
      "13:\tlearn: 0.3173694\ttotal: 85.4ms\tremaining: 67.1ms\n",
      "14:\tlearn: 0.3133153\ttotal: 90.5ms\tremaining: 60.4ms\n",
      "15:\tlearn: 0.3119181\ttotal: 96ms\tremaining: 54ms\n",
      "16:\tlearn: 0.3069874\ttotal: 102ms\tremaining: 47.8ms\n",
      "17:\tlearn: 0.3045061\ttotal: 107ms\tremaining: 41.5ms\n",
      "18:\tlearn: 0.3017829\ttotal: 113ms\tremaining: 35.7ms\n",
      "19:\tlearn: 0.2998497\ttotal: 118ms\tremaining: 29.5ms\n",
      "20:\tlearn: 0.2920471\ttotal: 123ms\tremaining: 23.5ms\n",
      "21:\tlearn: 0.2891213\ttotal: 130ms\tremaining: 17.7ms\n",
      "22:\tlearn: 0.2862388\ttotal: 135ms\tremaining: 11.7ms\n",
      "23:\tlearn: 0.2831351\ttotal: 140ms\tremaining: 5.82ms\n",
      "24:\tlearn: 0.2791436\ttotal: 146ms\tremaining: 0us\n"
     ]
    },
    {
     "data": {
      "text/plain": [
       "Pipeline(steps=[('features',\n",
       "                 FeatureUnion(transformer_list=[('job',\n",
       "                                                 Pipeline(steps=[('selector',\n",
       "                                                                  FeatureSelector(column='job')),\n",
       "                                                                 ('ohe',\n",
       "                                                                  OHEEncoder(key='job'))])),\n",
       "                                                ('marital',\n",
       "                                                 Pipeline(steps=[('selector',\n",
       "                                                                  FeatureSelector(column='marital')),\n",
       "                                                                 ('ohe',\n",
       "                                                                  OHEEncoder(key='marital'))])),\n",
       "                                                ('education',\n",
       "                                                 Pipeline(steps=[('selector',\n",
       "                                                                  FeatureSelector(column='education')),\n",
       "                                                                 ('o...\n",
       "                                                 Pipeline(steps=[('selector',\n",
       "                                                                  NumberSelector(key='day'))])),\n",
       "                                                ('duration',\n",
       "                                                 Pipeline(steps=[('selector',\n",
       "                                                                  NumberSelector(key='duration'))])),\n",
       "                                                ('pdays',\n",
       "                                                 Pipeline(steps=[('selector',\n",
       "                                                                  NumberSelector(key='pdays'))])),\n",
       "                                                ('previous',\n",
       "                                                 Pipeline(steps=[('selector',\n",
       "                                                                  NumberSelector(key='previous'))]))])),\n",
       "                ('catboost_classifier',\n",
       "                 <catboost.core.CatBoostClassifier object at 0x00000265D640A460>)])"
      ]
     },
     "execution_count": 114,
     "metadata": {},
     "output_type": "execute_result"
    }
   ],
   "source": [
    "catboost_pipeline.fit(X_train, y_train)"
   ]
  },
  {
   "cell_type": "code",
   "execution_count": 115,
   "id": "7a2473c1",
   "metadata": {},
   "outputs": [],
   "source": [
    "y_preds = catboost_pipeline.predict(X_test)"
   ]
  },
  {
   "cell_type": "markdown",
   "id": "b7500e29",
   "metadata": {},
   "source": [
    "Оценим модель"
   ]
  },
  {
   "cell_type": "code",
   "execution_count": 116,
   "id": "713fad57",
   "metadata": {},
   "outputs": [],
   "source": [
    "from sklearn.metrics import f1_score, roc_auc_score, precision_score, classification_report, precision_recall_curve"
   ]
  },
  {
   "cell_type": "code",
   "execution_count": 117,
   "id": "386f0c74",
   "metadata": {},
   "outputs": [
    {
     "name": "stdout",
     "output_type": "stream",
     "text": [
      "Best Threshold=1, F-Score=0.859, Precision=0.841, Recall=0.878\n"
     ]
    }
   ],
   "source": [
    "precision, recall, thresholds = precision_recall_curve(y_test, y_preds)\n",
    "\n",
    "fscore = (2 * precision * recall) / (precision + recall)\n",
    "\n",
    "ix = np.argmax(fscore)\n",
    "print(f'Best Threshold={thresholds[ix]}, F-Score={fscore[ix]:.3f}, Precision={precision[ix]:.3f}, Recall={recall[ix]:.3f}')"
   ]
  },
  {
   "cell_type": "code",
   "execution_count": 118,
   "id": "845fc24a",
   "metadata": {},
   "outputs": [],
   "source": [
    "models_results['data_type'].append('Normal')\n",
    "models_results['threshold'].append(thresholds[ix])\n",
    "models_results['f_score'].append(fscore[ix])\n",
    "models_results['precision'].append(precision[ix])\n",
    "models_results['recall'].append(recall[ix])"
   ]
  },
  {
   "cell_type": "markdown",
   "id": "93d0a7cf",
   "metadata": {},
   "source": [
    "**3. Подготовим датасет для тестирования random negative sampling.** \n",
    "Поделим датасет на сегмент с позитивными метками и сегмент c неразмеченными данными"
   ]
  },
  {
   "cell_type": "code",
   "execution_count": 119,
   "id": "db88e516",
   "metadata": {},
   "outputs": [],
   "source": [
    "data = pd.read_csv('/Users/Alisa/Downloads/bank+marketing/bank/bank-full.csv', ';')"
   ]
  },
  {
   "cell_type": "code",
   "execution_count": 120,
   "id": "c82b022f",
   "metadata": {},
   "outputs": [],
   "source": [
    "data_yes = data[data['y'] == 'yes']"
   ]
  },
  {
   "cell_type": "code",
   "execution_count": 121,
   "id": "6edcdc5f",
   "metadata": {},
   "outputs": [
    {
     "data": {
      "text/html": [
       "<div>\n",
       "<style scoped>\n",
       "    .dataframe tbody tr th:only-of-type {\n",
       "        vertical-align: middle;\n",
       "    }\n",
       "\n",
       "    .dataframe tbody tr th {\n",
       "        vertical-align: top;\n",
       "    }\n",
       "\n",
       "    .dataframe thead th {\n",
       "        text-align: right;\n",
       "    }\n",
       "</style>\n",
       "<table border=\"1\" class=\"dataframe\">\n",
       "  <thead>\n",
       "    <tr style=\"text-align: right;\">\n",
       "      <th></th>\n",
       "      <th>age</th>\n",
       "      <th>job</th>\n",
       "      <th>marital</th>\n",
       "      <th>education</th>\n",
       "      <th>default</th>\n",
       "      <th>balance</th>\n",
       "      <th>housing</th>\n",
       "      <th>loan</th>\n",
       "      <th>contact</th>\n",
       "      <th>day</th>\n",
       "      <th>month</th>\n",
       "      <th>duration</th>\n",
       "      <th>campaign</th>\n",
       "      <th>pdays</th>\n",
       "      <th>previous</th>\n",
       "      <th>poutcome</th>\n",
       "      <th>y</th>\n",
       "    </tr>\n",
       "  </thead>\n",
       "  <tbody>\n",
       "    <tr>\n",
       "      <th>83</th>\n",
       "      <td>59</td>\n",
       "      <td>admin.</td>\n",
       "      <td>married</td>\n",
       "      <td>secondary</td>\n",
       "      <td>no</td>\n",
       "      <td>2343</td>\n",
       "      <td>yes</td>\n",
       "      <td>no</td>\n",
       "      <td>unknown</td>\n",
       "      <td>5</td>\n",
       "      <td>may</td>\n",
       "      <td>1042</td>\n",
       "      <td>1</td>\n",
       "      <td>-1</td>\n",
       "      <td>0</td>\n",
       "      <td>unknown</td>\n",
       "      <td>yes</td>\n",
       "    </tr>\n",
       "    <tr>\n",
       "      <th>86</th>\n",
       "      <td>56</td>\n",
       "      <td>admin.</td>\n",
       "      <td>married</td>\n",
       "      <td>secondary</td>\n",
       "      <td>no</td>\n",
       "      <td>45</td>\n",
       "      <td>no</td>\n",
       "      <td>no</td>\n",
       "      <td>unknown</td>\n",
       "      <td>5</td>\n",
       "      <td>may</td>\n",
       "      <td>1467</td>\n",
       "      <td>1</td>\n",
       "      <td>-1</td>\n",
       "      <td>0</td>\n",
       "      <td>unknown</td>\n",
       "      <td>yes</td>\n",
       "    </tr>\n",
       "    <tr>\n",
       "      <th>87</th>\n",
       "      <td>41</td>\n",
       "      <td>technician</td>\n",
       "      <td>married</td>\n",
       "      <td>secondary</td>\n",
       "      <td>no</td>\n",
       "      <td>1270</td>\n",
       "      <td>yes</td>\n",
       "      <td>no</td>\n",
       "      <td>unknown</td>\n",
       "      <td>5</td>\n",
       "      <td>may</td>\n",
       "      <td>1389</td>\n",
       "      <td>1</td>\n",
       "      <td>-1</td>\n",
       "      <td>0</td>\n",
       "      <td>unknown</td>\n",
       "      <td>yes</td>\n",
       "    </tr>\n",
       "    <tr>\n",
       "      <th>129</th>\n",
       "      <td>55</td>\n",
       "      <td>services</td>\n",
       "      <td>married</td>\n",
       "      <td>secondary</td>\n",
       "      <td>no</td>\n",
       "      <td>2476</td>\n",
       "      <td>yes</td>\n",
       "      <td>no</td>\n",
       "      <td>unknown</td>\n",
       "      <td>5</td>\n",
       "      <td>may</td>\n",
       "      <td>579</td>\n",
       "      <td>1</td>\n",
       "      <td>-1</td>\n",
       "      <td>0</td>\n",
       "      <td>unknown</td>\n",
       "      <td>yes</td>\n",
       "    </tr>\n",
       "    <tr>\n",
       "      <th>168</th>\n",
       "      <td>54</td>\n",
       "      <td>admin.</td>\n",
       "      <td>married</td>\n",
       "      <td>tertiary</td>\n",
       "      <td>no</td>\n",
       "      <td>184</td>\n",
       "      <td>no</td>\n",
       "      <td>no</td>\n",
       "      <td>unknown</td>\n",
       "      <td>5</td>\n",
       "      <td>may</td>\n",
       "      <td>673</td>\n",
       "      <td>2</td>\n",
       "      <td>-1</td>\n",
       "      <td>0</td>\n",
       "      <td>unknown</td>\n",
       "      <td>yes</td>\n",
       "    </tr>\n",
       "  </tbody>\n",
       "</table>\n",
       "</div>"
      ],
      "text/plain": [
       "     age         job  marital  education default  balance housing loan  \\\n",
       "83    59      admin.  married  secondary      no     2343     yes   no   \n",
       "86    56      admin.  married  secondary      no       45      no   no   \n",
       "87    41  technician  married  secondary      no     1270     yes   no   \n",
       "129   55    services  married  secondary      no     2476     yes   no   \n",
       "168   54      admin.  married   tertiary      no      184      no   no   \n",
       "\n",
       "     contact  day month  duration  campaign  pdays  previous poutcome    y  \n",
       "83   unknown    5   may      1042         1     -1         0  unknown  yes  \n",
       "86   unknown    5   may      1467         1     -1         0  unknown  yes  \n",
       "87   unknown    5   may      1389         1     -1         0  unknown  yes  \n",
       "129  unknown    5   may       579         1     -1         0  unknown  yes  \n",
       "168  unknown    5   may       673         2     -1         0  unknown  yes  "
      ]
     },
     "execution_count": 121,
     "metadata": {},
     "output_type": "execute_result"
    }
   ],
   "source": [
    "data_yes.head(5)"
   ]
  },
  {
   "cell_type": "code",
   "execution_count": 122,
   "id": "454c2150",
   "metadata": {},
   "outputs": [
    {
     "data": {
      "text/plain": [
       "(5289, 17)"
      ]
     },
     "execution_count": 122,
     "metadata": {},
     "output_type": "execute_result"
    }
   ],
   "source": [
    "data_yes.shape"
   ]
  },
  {
   "cell_type": "code",
   "execution_count": 123,
   "id": "04e5cb8c",
   "metadata": {},
   "outputs": [],
   "source": [
    "data_positive = data_yes.iloc[0:2700] # выбираем позитивные размеченные"
   ]
  },
  {
   "cell_type": "code",
   "execution_count": 124,
   "id": "6c21b555",
   "metadata": {},
   "outputs": [],
   "source": [
    "data_yes_unlabel = data_yes.iloc[2700:] #позитивные неразмеченные"
   ]
  },
  {
   "cell_type": "code",
   "execution_count": 125,
   "id": "cae22e51",
   "metadata": {},
   "outputs": [
    {
     "data": {
      "text/plain": [
       "(2589, 17)"
      ]
     },
     "execution_count": 125,
     "metadata": {},
     "output_type": "execute_result"
    }
   ],
   "source": [
    "data_yes_unlabel.shape"
   ]
  },
  {
   "cell_type": "code",
   "execution_count": 126,
   "id": "60c71ef2",
   "metadata": {},
   "outputs": [],
   "source": [
    "data_no = data[data['y'] == 'no'] #негативные будут неразмеченными данными "
   ]
  },
  {
   "cell_type": "code",
   "execution_count": 127,
   "id": "f672bdd6",
   "metadata": {},
   "outputs": [],
   "source": [
    "data_no = data_no.sample(5289)"
   ]
  },
  {
   "cell_type": "code",
   "execution_count": 128,
   "id": "d19b0403",
   "metadata": {},
   "outputs": [],
   "source": [
    "frames = [data_yes_unlabel, data_no]"
   ]
  },
  {
   "cell_type": "code",
   "execution_count": 129,
   "id": "c849d781",
   "metadata": {},
   "outputs": [],
   "source": [
    "data_unlabel = pd.concat(frames)\n",
    "data_unlabel = data_unlabel.sample(frac = 1)"
   ]
  },
  {
   "cell_type": "code",
   "execution_count": 130,
   "id": "6822fb52",
   "metadata": {},
   "outputs": [
    {
     "data": {
      "text/html": [
       "<div>\n",
       "<style scoped>\n",
       "    .dataframe tbody tr th:only-of-type {\n",
       "        vertical-align: middle;\n",
       "    }\n",
       "\n",
       "    .dataframe tbody tr th {\n",
       "        vertical-align: top;\n",
       "    }\n",
       "\n",
       "    .dataframe thead th {\n",
       "        text-align: right;\n",
       "    }\n",
       "</style>\n",
       "<table border=\"1\" class=\"dataframe\">\n",
       "  <thead>\n",
       "    <tr style=\"text-align: right;\">\n",
       "      <th></th>\n",
       "      <th>age</th>\n",
       "      <th>job</th>\n",
       "      <th>marital</th>\n",
       "      <th>education</th>\n",
       "      <th>default</th>\n",
       "      <th>balance</th>\n",
       "      <th>housing</th>\n",
       "      <th>loan</th>\n",
       "      <th>contact</th>\n",
       "      <th>day</th>\n",
       "      <th>month</th>\n",
       "      <th>duration</th>\n",
       "      <th>campaign</th>\n",
       "      <th>pdays</th>\n",
       "      <th>previous</th>\n",
       "      <th>poutcome</th>\n",
       "      <th>y</th>\n",
       "    </tr>\n",
       "  </thead>\n",
       "  <tbody>\n",
       "    <tr>\n",
       "      <th>41566</th>\n",
       "      <td>41</td>\n",
       "      <td>admin.</td>\n",
       "      <td>divorced</td>\n",
       "      <td>secondary</td>\n",
       "      <td>no</td>\n",
       "      <td>6046</td>\n",
       "      <td>yes</td>\n",
       "      <td>yes</td>\n",
       "      <td>telephone</td>\n",
       "      <td>14</td>\n",
       "      <td>sep</td>\n",
       "      <td>185</td>\n",
       "      <td>2</td>\n",
       "      <td>-1</td>\n",
       "      <td>0</td>\n",
       "      <td>unknown</td>\n",
       "      <td>yes</td>\n",
       "    </tr>\n",
       "    <tr>\n",
       "      <th>24866</th>\n",
       "      <td>37</td>\n",
       "      <td>housemaid</td>\n",
       "      <td>single</td>\n",
       "      <td>tertiary</td>\n",
       "      <td>no</td>\n",
       "      <td>561</td>\n",
       "      <td>no</td>\n",
       "      <td>no</td>\n",
       "      <td>cellular</td>\n",
       "      <td>18</td>\n",
       "      <td>nov</td>\n",
       "      <td>188</td>\n",
       "      <td>1</td>\n",
       "      <td>165</td>\n",
       "      <td>2</td>\n",
       "      <td>failure</td>\n",
       "      <td>no</td>\n",
       "    </tr>\n",
       "    <tr>\n",
       "      <th>40158</th>\n",
       "      <td>38</td>\n",
       "      <td>management</td>\n",
       "      <td>married</td>\n",
       "      <td>tertiary</td>\n",
       "      <td>no</td>\n",
       "      <td>1187</td>\n",
       "      <td>yes</td>\n",
       "      <td>yes</td>\n",
       "      <td>cellular</td>\n",
       "      <td>5</td>\n",
       "      <td>jun</td>\n",
       "      <td>76</td>\n",
       "      <td>2</td>\n",
       "      <td>123</td>\n",
       "      <td>1</td>\n",
       "      <td>failure</td>\n",
       "      <td>no</td>\n",
       "    </tr>\n",
       "  </tbody>\n",
       "</table>\n",
       "</div>"
      ],
      "text/plain": [
       "       age         job   marital  education default  balance housing loan  \\\n",
       "41566   41      admin.  divorced  secondary      no     6046     yes  yes   \n",
       "24866   37   housemaid    single   tertiary      no      561      no   no   \n",
       "40158   38  management   married   tertiary      no     1187     yes  yes   \n",
       "\n",
       "         contact  day month  duration  campaign  pdays  previous poutcome    y  \n",
       "41566  telephone   14   sep       185         2     -1         0  unknown  yes  \n",
       "24866   cellular   18   nov       188         1    165         2  failure   no  \n",
       "40158   cellular    5   jun        76         2    123         1  failure   no  "
      ]
     },
     "execution_count": 130,
     "metadata": {},
     "output_type": "execute_result"
    }
   ],
   "source": [
    "data_unlabel.head(3)"
   ]
  },
  {
   "cell_type": "markdown",
   "id": "07e43450",
   "metadata": {},
   "source": [
    "**4. Применим random negative sampling для построения классификатора**"
   ]
  },
  {
   "cell_type": "markdown",
   "id": "33a57883",
   "metadata": {},
   "source": [
    "Теперь мы причислим все unlabel к условно негативным данным"
   ]
  },
  {
   "cell_type": "code",
   "execution_count": 131,
   "id": "749eb92b",
   "metadata": {},
   "outputs": [],
   "source": [
    "data_unlabel['y'].values[:] = 0"
   ]
  },
  {
   "cell_type": "code",
   "execution_count": 132,
   "id": "f8111e0c",
   "metadata": {},
   "outputs": [
    {
     "data": {
      "text/html": [
       "<div>\n",
       "<style scoped>\n",
       "    .dataframe tbody tr th:only-of-type {\n",
       "        vertical-align: middle;\n",
       "    }\n",
       "\n",
       "    .dataframe tbody tr th {\n",
       "        vertical-align: top;\n",
       "    }\n",
       "\n",
       "    .dataframe thead th {\n",
       "        text-align: right;\n",
       "    }\n",
       "</style>\n",
       "<table border=\"1\" class=\"dataframe\">\n",
       "  <thead>\n",
       "    <tr style=\"text-align: right;\">\n",
       "      <th></th>\n",
       "      <th>age</th>\n",
       "      <th>job</th>\n",
       "      <th>marital</th>\n",
       "      <th>education</th>\n",
       "      <th>default</th>\n",
       "      <th>balance</th>\n",
       "      <th>housing</th>\n",
       "      <th>loan</th>\n",
       "      <th>contact</th>\n",
       "      <th>day</th>\n",
       "      <th>month</th>\n",
       "      <th>duration</th>\n",
       "      <th>campaign</th>\n",
       "      <th>pdays</th>\n",
       "      <th>previous</th>\n",
       "      <th>poutcome</th>\n",
       "      <th>y</th>\n",
       "    </tr>\n",
       "  </thead>\n",
       "  <tbody>\n",
       "    <tr>\n",
       "      <th>41566</th>\n",
       "      <td>41</td>\n",
       "      <td>admin.</td>\n",
       "      <td>divorced</td>\n",
       "      <td>secondary</td>\n",
       "      <td>no</td>\n",
       "      <td>6046</td>\n",
       "      <td>yes</td>\n",
       "      <td>yes</td>\n",
       "      <td>telephone</td>\n",
       "      <td>14</td>\n",
       "      <td>sep</td>\n",
       "      <td>185</td>\n",
       "      <td>2</td>\n",
       "      <td>-1</td>\n",
       "      <td>0</td>\n",
       "      <td>unknown</td>\n",
       "      <td>0</td>\n",
       "    </tr>\n",
       "    <tr>\n",
       "      <th>24866</th>\n",
       "      <td>37</td>\n",
       "      <td>housemaid</td>\n",
       "      <td>single</td>\n",
       "      <td>tertiary</td>\n",
       "      <td>no</td>\n",
       "      <td>561</td>\n",
       "      <td>no</td>\n",
       "      <td>no</td>\n",
       "      <td>cellular</td>\n",
       "      <td>18</td>\n",
       "      <td>nov</td>\n",
       "      <td>188</td>\n",
       "      <td>1</td>\n",
       "      <td>165</td>\n",
       "      <td>2</td>\n",
       "      <td>failure</td>\n",
       "      <td>0</td>\n",
       "    </tr>\n",
       "    <tr>\n",
       "      <th>40158</th>\n",
       "      <td>38</td>\n",
       "      <td>management</td>\n",
       "      <td>married</td>\n",
       "      <td>tertiary</td>\n",
       "      <td>no</td>\n",
       "      <td>1187</td>\n",
       "      <td>yes</td>\n",
       "      <td>yes</td>\n",
       "      <td>cellular</td>\n",
       "      <td>5</td>\n",
       "      <td>jun</td>\n",
       "      <td>76</td>\n",
       "      <td>2</td>\n",
       "      <td>123</td>\n",
       "      <td>1</td>\n",
       "      <td>failure</td>\n",
       "      <td>0</td>\n",
       "    </tr>\n",
       "    <tr>\n",
       "      <th>22459</th>\n",
       "      <td>36</td>\n",
       "      <td>management</td>\n",
       "      <td>divorced</td>\n",
       "      <td>tertiary</td>\n",
       "      <td>no</td>\n",
       "      <td>276</td>\n",
       "      <td>yes</td>\n",
       "      <td>no</td>\n",
       "      <td>cellular</td>\n",
       "      <td>22</td>\n",
       "      <td>aug</td>\n",
       "      <td>131</td>\n",
       "      <td>2</td>\n",
       "      <td>-1</td>\n",
       "      <td>0</td>\n",
       "      <td>unknown</td>\n",
       "      <td>0</td>\n",
       "    </tr>\n",
       "    <tr>\n",
       "      <th>42629</th>\n",
       "      <td>47</td>\n",
       "      <td>admin.</td>\n",
       "      <td>single</td>\n",
       "      <td>secondary</td>\n",
       "      <td>no</td>\n",
       "      <td>3696</td>\n",
       "      <td>no</td>\n",
       "      <td>no</td>\n",
       "      <td>cellular</td>\n",
       "      <td>12</td>\n",
       "      <td>jan</td>\n",
       "      <td>758</td>\n",
       "      <td>4</td>\n",
       "      <td>-1</td>\n",
       "      <td>0</td>\n",
       "      <td>unknown</td>\n",
       "      <td>0</td>\n",
       "    </tr>\n",
       "  </tbody>\n",
       "</table>\n",
       "</div>"
      ],
      "text/plain": [
       "       age         job   marital  education default  balance housing loan  \\\n",
       "41566   41      admin.  divorced  secondary      no     6046     yes  yes   \n",
       "24866   37   housemaid    single   tertiary      no      561      no   no   \n",
       "40158   38  management   married   tertiary      no     1187     yes  yes   \n",
       "22459   36  management  divorced   tertiary      no      276     yes   no   \n",
       "42629   47      admin.    single  secondary      no     3696      no   no   \n",
       "\n",
       "         contact  day month  duration  campaign  pdays  previous poutcome  y  \n",
       "41566  telephone   14   sep       185         2     -1         0  unknown  0  \n",
       "24866   cellular   18   nov       188         1    165         2  failure  0  \n",
       "40158   cellular    5   jun        76         2    123         1  failure  0  \n",
       "22459   cellular   22   aug       131         2     -1         0  unknown  0  \n",
       "42629   cellular   12   jan       758         4     -1         0  unknown  0  "
      ]
     },
     "execution_count": 132,
     "metadata": {},
     "output_type": "execute_result"
    }
   ],
   "source": [
    "data_unlabel.head() #неразмеченные данные, которые считаются условно негативными"
   ]
  },
  {
   "cell_type": "code",
   "execution_count": 133,
   "id": "6026642a",
   "metadata": {},
   "outputs": [
    {
     "data": {
      "text/html": [
       "<div>\n",
       "<style scoped>\n",
       "    .dataframe tbody tr th:only-of-type {\n",
       "        vertical-align: middle;\n",
       "    }\n",
       "\n",
       "    .dataframe tbody tr th {\n",
       "        vertical-align: top;\n",
       "    }\n",
       "\n",
       "    .dataframe thead th {\n",
       "        text-align: right;\n",
       "    }\n",
       "</style>\n",
       "<table border=\"1\" class=\"dataframe\">\n",
       "  <thead>\n",
       "    <tr style=\"text-align: right;\">\n",
       "      <th></th>\n",
       "      <th>age</th>\n",
       "      <th>job</th>\n",
       "      <th>marital</th>\n",
       "      <th>education</th>\n",
       "      <th>default</th>\n",
       "      <th>balance</th>\n",
       "      <th>housing</th>\n",
       "      <th>loan</th>\n",
       "      <th>contact</th>\n",
       "      <th>day</th>\n",
       "      <th>month</th>\n",
       "      <th>duration</th>\n",
       "      <th>campaign</th>\n",
       "      <th>pdays</th>\n",
       "      <th>previous</th>\n",
       "      <th>poutcome</th>\n",
       "      <th>y</th>\n",
       "    </tr>\n",
       "  </thead>\n",
       "  <tbody>\n",
       "    <tr>\n",
       "      <th>83</th>\n",
       "      <td>59</td>\n",
       "      <td>admin.</td>\n",
       "      <td>married</td>\n",
       "      <td>secondary</td>\n",
       "      <td>no</td>\n",
       "      <td>2343</td>\n",
       "      <td>yes</td>\n",
       "      <td>no</td>\n",
       "      <td>unknown</td>\n",
       "      <td>5</td>\n",
       "      <td>may</td>\n",
       "      <td>1042</td>\n",
       "      <td>1</td>\n",
       "      <td>-1</td>\n",
       "      <td>0</td>\n",
       "      <td>unknown</td>\n",
       "      <td>yes</td>\n",
       "    </tr>\n",
       "    <tr>\n",
       "      <th>86</th>\n",
       "      <td>56</td>\n",
       "      <td>admin.</td>\n",
       "      <td>married</td>\n",
       "      <td>secondary</td>\n",
       "      <td>no</td>\n",
       "      <td>45</td>\n",
       "      <td>no</td>\n",
       "      <td>no</td>\n",
       "      <td>unknown</td>\n",
       "      <td>5</td>\n",
       "      <td>may</td>\n",
       "      <td>1467</td>\n",
       "      <td>1</td>\n",
       "      <td>-1</td>\n",
       "      <td>0</td>\n",
       "      <td>unknown</td>\n",
       "      <td>yes</td>\n",
       "    </tr>\n",
       "    <tr>\n",
       "      <th>87</th>\n",
       "      <td>41</td>\n",
       "      <td>technician</td>\n",
       "      <td>married</td>\n",
       "      <td>secondary</td>\n",
       "      <td>no</td>\n",
       "      <td>1270</td>\n",
       "      <td>yes</td>\n",
       "      <td>no</td>\n",
       "      <td>unknown</td>\n",
       "      <td>5</td>\n",
       "      <td>may</td>\n",
       "      <td>1389</td>\n",
       "      <td>1</td>\n",
       "      <td>-1</td>\n",
       "      <td>0</td>\n",
       "      <td>unknown</td>\n",
       "      <td>yes</td>\n",
       "    </tr>\n",
       "    <tr>\n",
       "      <th>129</th>\n",
       "      <td>55</td>\n",
       "      <td>services</td>\n",
       "      <td>married</td>\n",
       "      <td>secondary</td>\n",
       "      <td>no</td>\n",
       "      <td>2476</td>\n",
       "      <td>yes</td>\n",
       "      <td>no</td>\n",
       "      <td>unknown</td>\n",
       "      <td>5</td>\n",
       "      <td>may</td>\n",
       "      <td>579</td>\n",
       "      <td>1</td>\n",
       "      <td>-1</td>\n",
       "      <td>0</td>\n",
       "      <td>unknown</td>\n",
       "      <td>yes</td>\n",
       "    </tr>\n",
       "    <tr>\n",
       "      <th>168</th>\n",
       "      <td>54</td>\n",
       "      <td>admin.</td>\n",
       "      <td>married</td>\n",
       "      <td>tertiary</td>\n",
       "      <td>no</td>\n",
       "      <td>184</td>\n",
       "      <td>no</td>\n",
       "      <td>no</td>\n",
       "      <td>unknown</td>\n",
       "      <td>5</td>\n",
       "      <td>may</td>\n",
       "      <td>673</td>\n",
       "      <td>2</td>\n",
       "      <td>-1</td>\n",
       "      <td>0</td>\n",
       "      <td>unknown</td>\n",
       "      <td>yes</td>\n",
       "    </tr>\n",
       "  </tbody>\n",
       "</table>\n",
       "</div>"
      ],
      "text/plain": [
       "     age         job  marital  education default  balance housing loan  \\\n",
       "83    59      admin.  married  secondary      no     2343     yes   no   \n",
       "86    56      admin.  married  secondary      no       45      no   no   \n",
       "87    41  technician  married  secondary      no     1270     yes   no   \n",
       "129   55    services  married  secondary      no     2476     yes   no   \n",
       "168   54      admin.  married   tertiary      no      184      no   no   \n",
       "\n",
       "     contact  day month  duration  campaign  pdays  previous poutcome    y  \n",
       "83   unknown    5   may      1042         1     -1         0  unknown  yes  \n",
       "86   unknown    5   may      1467         1     -1         0  unknown  yes  \n",
       "87   unknown    5   may      1389         1     -1         0  unknown  yes  \n",
       "129  unknown    5   may       579         1     -1         0  unknown  yes  \n",
       "168  unknown    5   may       673         2     -1         0  unknown  yes  "
      ]
     },
     "execution_count": 133,
     "metadata": {},
     "output_type": "execute_result"
    }
   ],
   "source": [
    "data_positive.head(5) #размеченные позитивные данные"
   ]
  },
  {
   "cell_type": "code",
   "execution_count": 134,
   "id": "adcf70ee",
   "metadata": {},
   "outputs": [],
   "source": [
    "data_positive['y'].values[:] = 1"
   ]
  },
  {
   "cell_type": "code",
   "execution_count": 135,
   "id": "941e70e0",
   "metadata": {},
   "outputs": [],
   "source": [
    "frames = [data_unlabel, data_positive] #обЪединяем датасеты и шафлируем данные\n",
    "data_UP = pd.concat(frames)\n",
    "data_UP = data_UP.sample(frac = 1)"
   ]
  },
  {
   "cell_type": "code",
   "execution_count": 136,
   "id": "39719077",
   "metadata": {},
   "outputs": [],
   "source": [
    "X_train = data_UP.drop(columns=['y'])\n",
    "y_train = data_UP['y']"
   ]
  },
  {
   "cell_type": "markdown",
   "id": "66705fd4",
   "metadata": {},
   "source": [
    "Обучаем Catboost-модель и оцениваем результаты"
   ]
  },
  {
   "cell_type": "code",
   "execution_count": 137,
   "id": "159c81e4",
   "metadata": {},
   "outputs": [
    {
     "name": "stdout",
     "output_type": "stream",
     "text": [
      "Learning rate set to 0.5\n",
      "0:\tlearn: 0.4393159\ttotal: 6.38ms\tremaining: 153ms\n",
      "1:\tlearn: 0.3389506\ttotal: 13.6ms\tremaining: 156ms\n",
      "2:\tlearn: 0.3167870\ttotal: 20.1ms\tremaining: 148ms\n",
      "3:\tlearn: 0.3006233\ttotal: 29ms\tremaining: 152ms\n",
      "4:\tlearn: 0.2943925\ttotal: 36.6ms\tremaining: 146ms\n",
      "5:\tlearn: 0.2855723\ttotal: 44.8ms\tremaining: 142ms\n",
      "6:\tlearn: 0.2826512\ttotal: 52.1ms\tremaining: 134ms\n",
      "7:\tlearn: 0.2698045\ttotal: 60ms\tremaining: 128ms\n",
      "8:\tlearn: 0.2645818\ttotal: 66.3ms\tremaining: 118ms\n",
      "9:\tlearn: 0.2613276\ttotal: 74.8ms\tremaining: 112ms\n",
      "10:\tlearn: 0.2589121\ttotal: 81.9ms\tremaining: 104ms\n",
      "11:\tlearn: 0.2539773\ttotal: 88.9ms\tremaining: 96.3ms\n",
      "12:\tlearn: 0.2513306\ttotal: 95.5ms\tremaining: 88.1ms\n",
      "13:\tlearn: 0.2477300\ttotal: 102ms\tremaining: 80.5ms\n",
      "14:\tlearn: 0.2448226\ttotal: 110ms\tremaining: 73ms\n",
      "15:\tlearn: 0.2432623\ttotal: 116ms\tremaining: 65.4ms\n",
      "16:\tlearn: 0.2370212\ttotal: 124ms\tremaining: 58.3ms\n",
      "17:\tlearn: 0.2350679\ttotal: 130ms\tremaining: 50.7ms\n",
      "18:\tlearn: 0.2291266\ttotal: 138ms\tremaining: 43.5ms\n",
      "19:\tlearn: 0.2262605\ttotal: 144ms\tremaining: 36ms\n",
      "20:\tlearn: 0.2234919\ttotal: 151ms\tremaining: 28.8ms\n",
      "21:\tlearn: 0.2211836\ttotal: 158ms\tremaining: 21.5ms\n",
      "22:\tlearn: 0.2185796\ttotal: 165ms\tremaining: 14.3ms\n",
      "23:\tlearn: 0.2156150\ttotal: 172ms\tremaining: 7.18ms\n",
      "24:\tlearn: 0.2137681\ttotal: 179ms\tremaining: 0us\n"
     ]
    },
    {
     "data": {
      "text/plain": [
       "Pipeline(steps=[('features',\n",
       "                 FeatureUnion(transformer_list=[('job',\n",
       "                                                 Pipeline(steps=[('selector',\n",
       "                                                                  FeatureSelector(column='job')),\n",
       "                                                                 ('ohe',\n",
       "                                                                  OHEEncoder(key='job'))])),\n",
       "                                                ('marital',\n",
       "                                                 Pipeline(steps=[('selector',\n",
       "                                                                  FeatureSelector(column='marital')),\n",
       "                                                                 ('ohe',\n",
       "                                                                  OHEEncoder(key='marital'))])),\n",
       "                                                ('education',\n",
       "                                                 Pipeline(steps=[('selector',\n",
       "                                                                  FeatureSelector(column='education')),\n",
       "                                                                 ('o...\n",
       "                                                 Pipeline(steps=[('selector',\n",
       "                                                                  NumberSelector(key='day'))])),\n",
       "                                                ('duration',\n",
       "                                                 Pipeline(steps=[('selector',\n",
       "                                                                  NumberSelector(key='duration'))])),\n",
       "                                                ('pdays',\n",
       "                                                 Pipeline(steps=[('selector',\n",
       "                                                                  NumberSelector(key='pdays'))])),\n",
       "                                                ('previous',\n",
       "                                                 Pipeline(steps=[('selector',\n",
       "                                                                  NumberSelector(key='previous'))]))])),\n",
       "                ('catboost_classifier',\n",
       "                 <catboost.core.CatBoostClassifier object at 0x00000265D640A460>)])"
      ]
     },
     "execution_count": 137,
     "metadata": {},
     "output_type": "execute_result"
    }
   ],
   "source": [
    "catboost_pipeline.fit(X_train, y_train)"
   ]
  },
  {
   "cell_type": "code",
   "execution_count": 138,
   "id": "2610a6ce",
   "metadata": {},
   "outputs": [],
   "source": [
    "y_preds = catboost_pipeline.predict(X_test)"
   ]
  },
  {
   "cell_type": "code",
   "execution_count": 139,
   "id": "e3db1d73",
   "metadata": {},
   "outputs": [
    {
     "name": "stdout",
     "output_type": "stream",
     "text": [
      "Best Threshold=0, F-Score=0.659, Precision=0.491, Recall=1.000\n"
     ]
    }
   ],
   "source": [
    "precision, recall, thresholds = precision_recall_curve(y_test, y_preds)\n",
    "\n",
    "fscore = (2 * precision * recall) / (precision + recall)\n",
    "\n",
    "ix = np.argmax(fscore)\n",
    "print(f'Best Threshold={thresholds[ix]}, F-Score={fscore[ix]:.3f}, Precision={precision[ix]:.3f}, Recall={recall[ix]:.3f}')"
   ]
  },
  {
   "cell_type": "code",
   "execution_count": 140,
   "id": "106ee932",
   "metadata": {},
   "outputs": [],
   "source": [
    "models_results['data_type'].append('Random_negative_sampling')\n",
    "models_results['threshold'].append(thresholds[ix])\n",
    "models_results['f_score'].append(fscore[ix])\n",
    "models_results['precision'].append(precision[ix])\n",
    "models_results['recall'].append(recall[ix])"
   ]
  },
  {
   "cell_type": "markdown",
   "id": "e107cb7b",
   "metadata": {},
   "source": [
    "**5. Сравниваем результаты**"
   ]
  },
  {
   "cell_type": "code",
   "execution_count": 141,
   "id": "48749fd6",
   "metadata": {},
   "outputs": [
    {
     "data": {
      "text/html": [
       "<div>\n",
       "<style scoped>\n",
       "    .dataframe tbody tr th:only-of-type {\n",
       "        vertical-align: middle;\n",
       "    }\n",
       "\n",
       "    .dataframe tbody tr th {\n",
       "        vertical-align: top;\n",
       "    }\n",
       "\n",
       "    .dataframe thead th {\n",
       "        text-align: right;\n",
       "    }\n",
       "</style>\n",
       "<table border=\"1\" class=\"dataframe\">\n",
       "  <thead>\n",
       "    <tr style=\"text-align: right;\">\n",
       "      <th></th>\n",
       "      <th>data_type</th>\n",
       "      <th>threshold</th>\n",
       "      <th>f_score</th>\n",
       "      <th>precision</th>\n",
       "      <th>recall</th>\n",
       "    </tr>\n",
       "  </thead>\n",
       "  <tbody>\n",
       "    <tr>\n",
       "      <th>0</th>\n",
       "      <td>Normal</td>\n",
       "      <td>1</td>\n",
       "      <td>0.859187</td>\n",
       "      <td>0.841445</td>\n",
       "      <td>0.877692</td>\n",
       "    </tr>\n",
       "    <tr>\n",
       "      <th>1</th>\n",
       "      <td>Random_negative_sampling</td>\n",
       "      <td>0</td>\n",
       "      <td>0.659062</td>\n",
       "      <td>0.491493</td>\n",
       "      <td>1.000000</td>\n",
       "    </tr>\n",
       "  </tbody>\n",
       "</table>\n",
       "</div>"
      ],
      "text/plain": [
       "                  data_type  threshold   f_score  precision    recall\n",
       "0                    Normal          1  0.859187   0.841445  0.877692\n",
       "1  Random_negative_sampling          0  0.659062   0.491493  1.000000"
      ]
     },
     "execution_count": 141,
     "metadata": {},
     "output_type": "execute_result"
    }
   ],
   "source": [
    "models_results = pd.DataFrame(models_results)\n",
    "models_results"
   ]
  }
 ],
 "metadata": {
  "kernelspec": {
   "display_name": "Python 3",
   "language": "python",
   "name": "python3"
  },
  "language_info": {
   "codemirror_mode": {
    "name": "ipython",
    "version": 3
   },
   "file_extension": ".py",
   "mimetype": "text/x-python",
   "name": "python",
   "nbconvert_exporter": "python",
   "pygments_lexer": "ipython3",
   "version": "3.8.8"
  }
 },
 "nbformat": 4,
 "nbformat_minor": 5
}
